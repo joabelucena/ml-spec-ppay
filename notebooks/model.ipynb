{
 "cells": [
  {
   "cell_type": "code",
   "execution_count": 1,
   "id": "63b1b732",
   "metadata": {},
   "outputs": [],
   "source": [
    "import yaml, logging, boto3, os, shutil\n",
    "import pandas as pd\n",
    "import numpy as np"
   ]
  },
  {
   "cell_type": "code",
   "execution_count": 2,
   "id": "678f1c0c",
   "metadata": {},
   "outputs": [],
   "source": [
    "KEY_FILE_NAME = 'account-info.yaml'\n",
    "BUCKET_NAME = 'picpay-cleaned-bucket'\n",
    "LOCAL_DATA_PATH = \"data\""
   ]
  },
  {
   "cell_type": "code",
   "execution_count": 3,
   "id": "cf8978c6",
   "metadata": {},
   "outputs": [],
   "source": [
    "logging.basicConfig(level=logging.INFO)"
   ]
  },
  {
   "cell_type": "markdown",
   "id": "48fe4fa3",
   "metadata": {},
   "source": [
    "## Load AWS keys"
   ]
  },
  {
   "cell_type": "code",
   "execution_count": 4,
   "id": "f2bff09b",
   "metadata": {},
   "outputs": [],
   "source": [
    "try:\n",
    "    with open(KEY_FILE_NAME) as f:\n",
    "        credentials = yaml.load(f, Loader=yaml.FullLoader)\n",
    "except FileNotFoundError as e:\n",
    "    logging.error(\"AWS Keys file not found. Please define a YAML file called '{file_name}' containing 'access_key', 'secret_key' and 'region' keys.\".format(file_name=KEY_FILE_NAME))"
   ]
  },
  {
   "cell_type": "markdown",
   "id": "62bc5be5",
   "metadata": {},
   "source": [
    "## Helper Functions Definition"
   ]
  },
  {
   "cell_type": "markdown",
   "id": "6e3f6141",
   "metadata": {},
   "source": [
    "### Data Aquisition"
   ]
  },
  {
   "cell_type": "markdown",
   "id": "0265dba7",
   "metadata": {},
   "source": [
    "> This function was created for helping aquiring data and avoid un-necessary costs running the pipeline. Although, a version that donwloads data from S3 is still available on `get_data_from_s3()` function"
   ]
  },
  {
   "cell_type": "code",
   "execution_count": 5,
   "id": "72fb2476",
   "metadata": {},
   "outputs": [],
   "source": [
    "def get_data_from_api(pages=10, items_per_page=80):\n",
    "    import requests as r\n",
    "    extract_cols = lambda data, cols: {key: data[key] for key in cols}\n",
    "    cols = ['id','name','abv','ibu','target_fg','target_og','ebc','srm','ph']\n",
    "    cleaned = []\n",
    "    for x in range(1,pages):\n",
    "        response = r.get(\"https://api.punkapi.com/v2/beers?page={page}&per_page={items}\".format(page=x, items=items_per_page))\n",
    "        records = response.json()\n",
    "        cleaned = [*cleaned, *[extract_cols(x, cols) for x in records]]\n",
    "    return pd.DataFrame(cleaned, columns=cols)"
   ]
  },
  {
   "cell_type": "code",
   "execution_count": 6,
   "id": "313b6a69",
   "metadata": {},
   "outputs": [],
   "source": [
    "def get_data_from_s3(bucket, temp_dir, credentials):\n",
    "    client = boto3.resource(\n",
    "        service_name = 's3',\n",
    "        region_name = credentials[\"region\"],\n",
    "        aws_access_key_id = credentials[\"access_key\"],\n",
    "        aws_secret_access_key = credentials[\"secret_key\"]\n",
    "    )\n",
    "    \n",
    "    os.makedirs(temp_dir)\n",
    "    \n",
    "    files = []\n",
    "    target_bucket = client.Bucket(bucket)\n",
    "    \n",
    "    for o in target_bucket.objects.all():\n",
    "        path, filename = os.path.split(o.key)\n",
    "        target_bucket.download_file(o.key, os.path.join(temp_dir,filename))\n",
    "        files.append(os.path.join(temp_dir,filename))\n",
    "\n",
    "    data = []\n",
    "    for file in files:\n",
    "        with open(file, \"r\") as f:\n",
    "            data = [*data, *f.read().split(\"\\n\")[1:-1]]\n",
    "\n",
    "    shutil.rmtree(temp_dir)\n",
    "    return pd.DataFrame([x.split(\",\") for x in data], columns=[\"id\",\"name\",\"abv\",\"ibu\",\"target_fg\",\"target_og\",\"ebc\",\"srm\",\"ph\"])"
   ]
  },
  {
   "cell_type": "markdown",
   "id": "b1bede16",
   "metadata": {},
   "source": [
    "### Model Training"
   ]
  },
  {
   "cell_type": "code",
   "execution_count": 7,
   "id": "a872ff5d",
   "metadata": {},
   "outputs": [],
   "source": [
    "def model_train(estimator, param_grid, cv, train_df, y, test_size=0.3, random_state=42):\n",
    "    from sklearn.metrics import r2_score, mean_absolute_error, mean_squared_error\n",
    "    from sklearn.model_selection import cross_val_score, GridSearchCV, train_test_split\n",
    "    \n",
    "    logging.info(\"Estimator: {}\".format(estimator))\n",
    "    logging.info(\"test_size: {}\".format(test_size))\n",
    "    logging.info(\"Number of folds: {}\".format(cv))\n",
    "    logging.info(\"Hyper parameter: {}\".format(param_grid))\n",
    "    logging.info(\"random_state: {}\".format(random_state))\n",
    "    logging.info(\"Dataset shape: {}\".format(train_df.shape))\n",
    "    \n",
    "    x_train, x_test, y_train, y_test = train_test_split(train_df, y, test_size=0.3, random_state=42)\n",
    "    \n",
    "    grid_cv = GridSearchCV(estimator=estimator, param_grid=param_grid, cv= 5)\n",
    "    grid_cv.fit(x_train, y_train)\n",
    "    \n",
    "    logging.info(\"Finish training model\")\n",
    "    logging.info(\"Predicting data\")\n",
    "    \n",
    "    y_pred = grid_cv.predict(x_test)\n",
    "    \n",
    "    logging.info(\"Computing metrics\")\n",
    "    \n",
    "    metrics = dict()\n",
    "    \n",
    "    metrics['r2'] = r2_score(y_test, y_pred)\n",
    "    metrics['mae'] = mean_absolute_error(y_test, y_pred)\n",
    "    metrics['mse'] = mean_squared_error(y_test, y_pred)\n",
    "    \n",
    "    logging.info(\"Output information:\")\n",
    "    logging.info(\"- Best params: {}\".format(grid_cv.best_params_))\n",
    "    logging.info(\"- Metrics: {}\".format(metrics))\n",
    "    \n",
    "    return (grid_cv.best_estimator_, grid_cv.best_params_, metrics)"
   ]
  },
  {
   "cell_type": "markdown",
   "id": "458df72d",
   "metadata": {},
   "source": [
    "## Aquiring Data"
   ]
  },
  {
   "cell_type": "markdown",
   "id": "2ebe8e29",
   "metadata": {},
   "source": [
    "**S3 file downloading**"
   ]
  },
  {
   "cell_type": "code",
   "execution_count": 8,
   "id": "d1f6e0ef",
   "metadata": {},
   "outputs": [],
   "source": [
    "# df = get_data_from_s3(BUCKET_NAME, LOCAL_DATA_PATH, credentials)"
   ]
  },
  {
   "cell_type": "markdown",
   "id": "b40bda34",
   "metadata": {},
   "source": [
    "**API call**"
   ]
  },
  {
   "cell_type": "code",
   "execution_count": 9,
   "id": "9e3395f3",
   "metadata": {},
   "outputs": [],
   "source": [
    "df = get_data_from_api(pages=5, items_per_page=80)"
   ]
  },
  {
   "cell_type": "markdown",
   "id": "282d76f7",
   "metadata": {},
   "source": [
    "## Data Cleaning and Preparing"
   ]
  },
  {
   "cell_type": "code",
   "execution_count": 10,
   "id": "43daa48d",
   "metadata": {},
   "outputs": [],
   "source": [
    "df['id'] = pd.to_numeric(df[\"id\"])\n",
    "df['abv'] = pd.to_numeric(df[\"abv\"])\n",
    "df['target_fg'] = pd.to_numeric(df[\"target_fg\"])\n",
    "df['target_og'] = pd.to_numeric(df[\"target_og\"])\n",
    "df['ebc'] = pd.to_numeric(df[\"ebc\"])\n",
    "df['srm'] = pd.to_numeric(df[\"srm\"])\n",
    "df['ph'] = pd.to_numeric(df[\"ph\"])\n",
    "df = df.dropna()"
   ]
  },
  {
   "cell_type": "markdown",
   "id": "82b0a88e",
   "metadata": {},
   "source": [
    "## Model Selection and Training"
   ]
  },
  {
   "cell_type": "code",
   "execution_count": 11,
   "id": "b1e93059",
   "metadata": {},
   "outputs": [],
   "source": [
    "x_vars = [\"abv\",\"target_fg\",\"target_og\",\"ebc\",\"srm\",\"ph\"]\n",
    "y_var = [\"ibu\"]"
   ]
  },
  {
   "cell_type": "markdown",
   "id": "ae4ecdcc",
   "metadata": {},
   "source": [
    "### 1. DecisionTreeRegressor"
   ]
  },
  {
   "cell_type": "code",
   "execution_count": 12,
   "id": "54f59d2e",
   "metadata": {},
   "outputs": [],
   "source": [
    "from sklearn.tree import DecisionTreeRegressor"
   ]
  },
  {
   "cell_type": "code",
   "execution_count": 13,
   "id": "319aceec",
   "metadata": {},
   "outputs": [],
   "source": [
    "param_grid = { \n",
    "    'criterion': [\"mse\", \"mae\"],\n",
    "    'splitter': ['best', 'random'],\n",
    "    'max_depth' : [4,6,9]\n",
    "}"
   ]
  },
  {
   "cell_type": "code",
   "execution_count": 14,
   "id": "029d567a",
   "metadata": {},
   "outputs": [
    {
     "name": "stderr",
     "output_type": "stream",
     "text": [
      "INFO:root:Estimator: DecisionTreeRegressor(random_state=42)\n",
      "INFO:root:test_size: 0.3\n",
      "INFO:root:Number of folds: 5\n",
      "INFO:root:Hyper parameter: {'criterion': ['mse', 'mae'], 'splitter': ['best', 'random'], 'max_depth': [4, 6, 9]}\n",
      "INFO:root:random_state: 42\n",
      "INFO:root:Dataset shape: (310, 6)\n",
      "INFO:root:Finish training model\n",
      "INFO:root:Predicting data\n",
      "INFO:root:Computing metrics\n",
      "INFO:root:Output information:\n",
      "INFO:root:- Best params: {'criterion': 'mae', 'max_depth': 4, 'splitter': 'random'}\n",
      "INFO:root:- Metrics: {'r2': 0.15200451869250942, 'mae': 16.150537634408604, 'mse': 722.7956989247311}\n"
     ]
    }
   ],
   "source": [
    "dec_model, dec_params, dec_metrics = model_train(\n",
    "    estimator = DecisionTreeRegressor(random_state=42),\n",
    "    param_grid = param_grid,\n",
    "    cv = 5,\n",
    "    train_df = df[x_vars],\n",
    "    y = df[y_var])"
   ]
  },
  {
   "cell_type": "markdown",
   "id": "a357b858",
   "metadata": {},
   "source": [
    "### 2. LinearRegression"
   ]
  },
  {
   "cell_type": "code",
   "execution_count": 15,
   "id": "2d6e031d",
   "metadata": {},
   "outputs": [],
   "source": [
    "from sklearn.linear_model import LinearRegression"
   ]
  },
  {
   "cell_type": "code",
   "execution_count": 16,
   "id": "66f0a508",
   "metadata": {},
   "outputs": [],
   "source": [
    "param_grid = {}"
   ]
  },
  {
   "cell_type": "code",
   "execution_count": 17,
   "id": "3281320e",
   "metadata": {},
   "outputs": [
    {
     "name": "stderr",
     "output_type": "stream",
     "text": [
      "INFO:root:Estimator: LinearRegression()\n",
      "INFO:root:test_size: 0.3\n",
      "INFO:root:Number of folds: 5\n",
      "INFO:root:Hyper parameter: {}\n",
      "INFO:root:random_state: 42\n",
      "INFO:root:Dataset shape: (310, 6)\n",
      "INFO:root:Finish training model\n",
      "INFO:root:Predicting data\n",
      "INFO:root:Computing metrics\n",
      "INFO:root:Output information:\n",
      "INFO:root:- Best params: {}\n",
      "INFO:root:- Metrics: {'r2': -2.388200983661166, 'mae': 29.73237279124114, 'mse': 2887.960080054735}\n"
     ]
    }
   ],
   "source": [
    "lin_model, lin_params, lin_metrics = model_train(\n",
    "    estimator = LinearRegression(),\n",
    "    param_grid = param_grid,\n",
    "    cv = 5,\n",
    "    train_df = df[x_vars],\n",
    "    y = df[y_var])"
   ]
  },
  {
   "cell_type": "markdown",
   "id": "f82b6bf8",
   "metadata": {},
   "source": [
    "### 3. RandomForestRegressor"
   ]
  },
  {
   "cell_type": "code",
   "execution_count": 18,
   "id": "5e877ede",
   "metadata": {},
   "outputs": [],
   "source": [
    "from sklearn.ensemble import RandomForestRegressor"
   ]
  },
  {
   "cell_type": "code",
   "execution_count": 19,
   "id": "aa385536",
   "metadata": {},
   "outputs": [],
   "source": [
    "param_grid = { \n",
    "    'n_estimators': [200, 500],\n",
    "    'max_features': ['auto', 'sqrt', 'log2'],\n",
    "    'max_depth' : [4,6,9],\n",
    "    'criterion': [\"mse\", \"mae\"]\n",
    "}"
   ]
  },
  {
   "cell_type": "code",
   "execution_count": 20,
   "id": "707dd530",
   "metadata": {},
   "outputs": [
    {
     "name": "stderr",
     "output_type": "stream",
     "text": [
      "INFO:root:Estimator: RandomForestRegressor()\n",
      "INFO:root:test_size: 0.3\n",
      "INFO:root:Number of folds: 5\n",
      "INFO:root:Hyper parameter: {'n_estimators': [200, 500], 'max_features': ['auto', 'sqrt', 'log2'], 'max_depth': [4, 6, 9], 'criterion': ['mse', 'mae']}\n",
      "INFO:root:random_state: 42\n",
      "INFO:root:Dataset shape: (310, 6)\n",
      "INFO:root:Finish training model\n",
      "INFO:root:Predicting data\n",
      "INFO:root:Computing metrics\n",
      "INFO:root:Output information:\n",
      "INFO:root:- Best params: {'criterion': 'mse', 'max_depth': 9, 'max_features': 'auto', 'n_estimators': 500}\n",
      "INFO:root:- Metrics: {'r2': 0.4901436929171501, 'mae': 15.395093542943979, 'mse': 434.58008203171255}\n"
     ]
    }
   ],
   "source": [
    "raf_model, raf_params, raf_metrics = model_train(\n",
    "    estimator = RandomForestRegressor(),\n",
    "    param_grid = param_grid,\n",
    "    cv = 5,\n",
    "    train_df = df[x_vars],\n",
    "    y = df[y_var].values.ravel())"
   ]
  },
  {
   "cell_type": "markdown",
   "id": "4d5b5935",
   "metadata": {},
   "source": [
    "**Comparing metrics**"
   ]
  },
  {
   "cell_type": "code",
   "execution_count": 21,
   "id": "7713fe2a",
   "metadata": {},
   "outputs": [
    {
     "name": "stderr",
     "output_type": "stream",
     "text": [
      "INFO:root:Decision Tree: {'r2': 0.15200451869250942, 'mae': 16.150537634408604, 'mse': 722.7956989247311}\n",
      "INFO:root:Linear Regression: {'r2': -2.388200983661166, 'mae': 29.73237279124114, 'mse': 2887.960080054735}\n",
      "INFO:root:Random Forest: {'r2': 0.4901436929171501, 'mae': 15.395093542943979, 'mse': 434.58008203171255}\n"
     ]
    }
   ],
   "source": [
    "logging.info(\"Decision Tree: {metrics}\".format(metrics=dec_metrics))\n",
    "logging.info(\"Linear Regression: {metrics}\".format(metrics=lin_metrics))\n",
    "logging.info(\"Random Forest: {metrics}\".format(metrics=raf_metrics))"
   ]
  },
  {
   "cell_type": "markdown",
   "id": "7000d5a6",
   "metadata": {},
   "source": [
    "## Conclusion"
   ]
  },
  {
   "cell_type": "markdown",
   "id": "404b61ff",
   "metadata": {},
   "source": [
    "Three techiniques were chosen for this study: `RandomForestRegressor`, `LinearRegression` and `DecisionTreeRegressor`. But the results showed that `RandomForestRegressor` performed better, so this model would be selected for deploying."
   ]
  },
  {
   "cell_type": "code",
   "execution_count": null,
   "id": "8dc3465b",
   "metadata": {},
   "outputs": [],
   "source": []
  }
 ],
 "metadata": {
  "kernelspec": {
   "display_name": "Python 3",
   "language": "python",
   "name": "python3"
  },
  "language_info": {
   "codemirror_mode": {
    "name": "ipython",
    "version": 3
   },
   "file_extension": ".py",
   "mimetype": "text/x-python",
   "name": "python",
   "nbconvert_exporter": "python",
   "pygments_lexer": "ipython3",
   "version": "3.9.4"
  }
 },
 "nbformat": 4,
 "nbformat_minor": 5
}
